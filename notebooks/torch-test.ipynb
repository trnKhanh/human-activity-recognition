{
 "cells": [
  {
   "cell_type": "code",
   "execution_count": null,
   "id": "b292057a-8293-454e-893b-d3fe683b247f",
   "metadata": {},
   "outputs": [],
   "source": [
    "from torch import nn\n",
    "import torch\n",
    "import torchvision\n",
    "from torchvision import transforms\n",
    "import math\n",
    "import time\n",
    "from ptflops import get_model_complexity_info"
   ]
  },
  {
   "cell_type": "code",
   "execution_count": null,
   "id": "df4be057-ff4c-41df-b7ca-c417db81d3f2",
   "metadata": {},
   "outputs": [],
   "source": [
    "class AlexNet(nn.Module):\n",
    "    def __init__(self, lr=0.1, num_classes=10):\n",
    "        super().__init__()\n",
    "        self.net = nn.Sequential(\n",
    "            nn.LazyConv2d(96, kernel_size=11, stride=4, padding=1),\n",
    "            nn.ReLU(), nn.MaxPool2d(kernel_size=3, stride=2),\n",
    "            nn.LazyConv2d(256, kernel_size=5, padding=2), nn.ReLU(),\n",
    "            nn.MaxPool2d(kernel_size=3, stride=2),\n",
    "            nn.LazyConv2d(384, kernel_size=3, padding=1), nn.ReLU(),\n",
    "            nn.LazyConv2d(384, kernel_size=3, padding=1), nn.ReLU(),\n",
    "            nn.LazyConv2d(256, kernel_size=3, padding=1), nn.ReLU(),\n",
    "            nn.MaxPool2d(kernel_size=3, stride=2), nn.Flatten(),\n",
    "            nn.LazyLinear(4096), nn.ReLU(), nn.Dropout(p=0.5),\n",
    "            nn.LazyLinear(4096), nn.ReLU(),nn.Dropout(p=0.5),\n",
    "            nn.LazyLinear(num_classes))\n",
    "    def forward(self, X):\n",
    "        return self.net(X)"
   ]
  },
  {
   "cell_type": "code",
   "execution_count": null,
   "id": "4cac8b95-a85f-4d35-a78a-7c449e82d4aa",
   "metadata": {},
   "outputs": [],
   "source": [
    "device = torch.device('cpu')"
   ]
  },
  {
   "cell_type": "code",
   "execution_count": null,
   "id": "07423dfd-549c-485d-b2ee-3e08d1ccd932",
   "metadata": {},
   "outputs": [],
   "source": [
    "transform = transforms.Compose(\n",
    "    [transforms.ToTensor(),\n",
    "     transforms.Resize((224,224)),\n",
    "     transforms.Normalize((0.5,), (0.5,))])\n",
    "\n",
    "# Create datasets for training & validation, download if necessary\n",
    "training_set = torchvision.datasets.FashionMNIST('./data', train=True, transform=transform, download=True)\n",
    "validation_set = torchvision.datasets.FashionMNIST('./data', train=False, transform=transform, download=True)\n",
    "\n",
    "# Create data loaders for our datasets; shuffle for training, not for validation\n",
    "training_loader = torch.utils.data.DataLoader(training_set, batch_size=128, shuffle=True)\n",
    "validation_loader = torch.utils.data.DataLoader(validation_set, batch_size=128, shuffle=False)"
   ]
  },
  {
   "cell_type": "code",
   "execution_count": null,
   "id": "a4b5ae15-18c9-450a-8147-111d160da19d",
   "metadata": {},
   "outputs": [],
   "source": [
    "model = AlexNet()\n",
    "model.to(device)"
   ]
  },
  {
   "cell_type": "code",
   "execution_count": null,
   "id": "e2c3287a-5540-4b70-adf6-a6c39ab419bd",
   "metadata": {},
   "outputs": [],
   "source": [
    "device"
   ]
  },
  {
   "cell_type": "code",
   "execution_count": null,
   "id": "bed8a0c1-7577-40eb-b27e-8ba07a3cc072",
   "metadata": {},
   "outputs": [],
   "source": [
    "# import torchvision.models as models\n",
    "# import torch\n",
    "# from ptflops import get_model_complexity_info\n",
    "\n",
    "# with torch.device(\"mps\"):\n",
    "#     macs, params = get_model_complexity_info(model, (1, 224, 224), as_strings=True,\n",
    "#                                            print_per_layer_stat=True, verbose=True)\n",
    "#     print('{:<30}  {:<8}'.format('Computational complexity: ', macs))\n",
    "#     print('{:<30}  {:<8}'.format('Number of parameters: ', params))\n"
   ]
  },
  {
   "cell_type": "code",
   "execution_count": null,
   "id": "342c92b3-d231-4d2a-b5b0-374a4f1b3324",
   "metadata": {},
   "outputs": [],
   "source": [
    "criterion = torch.nn.CrossEntropyLoss()\n",
    "optimizer = torch.optim.SGD(model.parameters(), lr = 0.1)\n",
    "for i in range(100):\n",
    "    start_time = time.time()\n",
    "    cnt = 0\n",
    "    for x, y in training_loader:\n",
    "        cnt += 1\n",
    "        x = x.to(device)\n",
    "        y = y.to(device)\n",
    "        # model.train()\n",
    "        y_pred = model(x)\n",
    "        loss = criterion(y_pred, y)\n",
    "        optimizer.zero_grad()\n",
    "        with torch.no_grad():\n",
    "            loss.backward()\n",
    "            optimizer.step()\n",
    "\n",
    "        end_time = time.time()\n",
    "        print(f\"Epoche {i}, Batch {cnt} ({end_time - start_time} s): Loss = {loss.item()}\", end = \"\\r\")\n",
    "\n",
    "    # model.eval()\n",
    "    y_pred = model(x)\n",
    "    loss = criterion(y_pred, y)\n",
    "    print(f\"Epoche {i} ({end_time - start_time} s): Loss = {loss.item()}\")"
   ]
  },
  {
   "cell_type": "code",
   "execution_count": null,
   "id": "ac69b3f9-1e95-470d-85a3-45da030e5c00",
   "metadata": {},
   "outputs": [],
   "source": [
    "class Model2(torch.nn.Module):\n",
    "    def __init__(self):\n",
    "        super().__init__()\n",
    "        self.W1 = torch.nn.Parameter(torch.randn((3, 10)))\n",
    "        self.b1 = torch.nn.Parameter(torch.randn((10)))\n",
    "        self.W2 = torch.nn.Parameter(torch.randn((10, 1)))\n",
    "        self.b2 = torch.nn.Parameter(torch.randn((1)))\n",
    "\n",
    "    def forward(self, X):\n",
    "        X = torch.mm(X, self.W1) + self.b1\n",
    "        X = torch.max(X, torch.zeros_like(X))\n",
    "        X = torch.mm(X, self.W2) + self.b2\n",
    "        return X"
   ]
  },
  {
   "cell_type": "code",
   "execution_count": null,
   "id": "3b321068-d8d6-4c4c-a7f8-b1f4cc4da26a",
   "metadata": {},
   "outputs": [],
   "source": [
    "model2 = Model2()\n",
    "criterion = torch.nn.MSELoss(reduction=\"mean\")\n",
    "optimizer = torch.optim.SGD(model2.parameters(), lr = 0.0001)\n",
    "for i in range(10000):\n",
    "    for x, y in iter(dataloader):\n",
    "        # model.train()\n",
    "        y_pred = model2(x)\n",
    "        loss = criterion(y_pred, y)\n",
    "        if (i % 10 == 9):\n",
    "            print(f\"{i}: {loss.item()}\", end = \"\\r\")\n",
    "        optimizer.zero_grad()\n",
    "        loss.backward()\n",
    "        optimizer.step()\n",
    "    if (i % 10 == 9):\n",
    "        print()"
   ]
  },
  {
   "cell_type": "code",
   "execution_count": null,
   "id": "a5aa18c0-b446-43f0-bdae-73589bc7dd6d",
   "metadata": {},
   "outputs": [],
   "source": [
    "for param in model.parameters():\n",
    "    print(param.size())"
   ]
  },
  {
   "cell_type": "code",
   "execution_count": null,
   "id": "2dea20aa-c0c6-43d3-a857-4346849a05c4",
   "metadata": {},
   "outputs": [],
   "source": [
    "for param in model2.parameters():\n",
    "    print(param.size())"
   ]
  },
  {
   "cell_type": "code",
   "execution_count": null,
   "id": "90521e84-8f62-4580-af3c-4227f9d48f38",
   "metadata": {},
   "outputs": [],
   "source": [
    "a = torch.zeros((5,2))\n",
    "b = torch.ones((5))\n",
    "*a"
   ]
  },
  {
   "cell_type": "code",
   "execution_count": null,
   "id": "dfdb1c23-17be-48d2-99fa-586667a0895d",
   "metadata": {},
   "outputs": [],
   "source": [
    "a = tuple([1,2,3])\n",
    "*a"
   ]
  },
  {
   "cell_type": "code",
   "execution_count": null,
   "id": "45e96d90-6673-428e-ab75-48f454a4dedf",
   "metadata": {},
   "outputs": [],
   "source": [
    "print(type(model(x)))"
   ]
  },
  {
   "cell_type": "code",
   "execution_count": null,
   "id": "45726447-1a61-4b33-8863-bb0d4ec77661",
   "metadata": {},
   "outputs": [],
   "source": []
  }
 ],
 "metadata": {
  "kernelspec": {
   "display_name": "Python 3 (ipykernel)",
   "language": "python",
   "name": "python3"
  },
  "language_info": {
   "codemirror_mode": {
    "name": "ipython",
    "version": 3
   },
   "file_extension": ".py",
   "mimetype": "text/x-python",
   "name": "python",
   "nbconvert_exporter": "python",
   "pygments_lexer": "ipython3",
   "version": "3.12.2"
  }
 },
 "nbformat": 4,
 "nbformat_minor": 5
}
